{
 "cells": [
  {
   "cell_type": "markdown",
   "metadata": {},
   "source": [
    "# QUESTION 1\n"
   ]
  },
  {
   "cell_type": "raw",
   "metadata": {},
   "source": [
    "RAINBOW"
   ]
  },
  {
   "cell_type": "markdown",
   "metadata": {},
   "source": [
    "# QUESTION 2"
   ]
  },
  {
   "cell_type": "code",
   "execution_count": 2,
   "metadata": {},
   "outputs": [
    {
     "name": "stdout",
     "output_type": "stream",
     "text": [
      "LETS UPGRADE\n"
     ]
    }
   ],
   "source": [
    "print('LETS UPGRADE')\n"
   ]
  },
  {
   "cell_type": "markdown",
   "metadata": {},
   "source": [
    "# Question 3"
   ]
  },
  {
   "cell_type": "code",
   "execution_count": 7,
   "metadata": {},
   "outputs": [
    {
     "name": "stdout",
     "output_type": "stream",
     "text": [
      "35000\n",
      "60000\n",
      "Profit\n"
     ]
    }
   ],
   "source": [
    "#Case 1\n",
    "x=int(input())\n",
    "y=int(input())\n",
    "if x<y:\n",
    "    print('Profit')\n",
    "elif x>y:\n",
    "    print('Loss')\n",
    "else:\n",
    "    print('Neither')"
   ]
  },
  {
   "cell_type": "code",
   "execution_count": 8,
   "metadata": {},
   "outputs": [
    {
     "name": "stdout",
     "output_type": "stream",
     "text": [
      "65000\n",
      "60000\n",
      "Loss\n"
     ]
    }
   ],
   "source": [
    "#Case 2\n",
    "x=int(input())\n",
    "y=int(input())\n",
    "if x<y:\n",
    "    print('Profit')\n",
    "elif x>y:\n",
    "    print('Loss')\n",
    "else:\n",
    "    print('Neither')"
   ]
  },
  {
   "cell_type": "code",
   "execution_count": 9,
   "metadata": {},
   "outputs": [
    {
     "name": "stdout",
     "output_type": "stream",
     "text": [
      "18000\n",
      "18000\n",
      "Neither\n"
     ]
    }
   ],
   "source": [
    "#Case 3\n",
    "x=int(input())\n",
    "y=int(input())\n",
    "if x<y:\n",
    "    print('Profit')\n",
    "elif x>y:\n",
    "    print('Loss')\n",
    "else:\n",
    "    print('Neither')"
   ]
  },
  {
   "cell_type": "markdown",
   "metadata": {},
   "source": [
    "# Question 4"
   ]
  },
  {
   "cell_type": "code",
   "execution_count": 10,
   "metadata": {},
   "outputs": [
    {
     "name": "stdout",
     "output_type": "stream",
     "text": [
      "20\n",
      "1600\n"
     ]
    }
   ],
   "source": [
    "#Case 1\n",
    "x=int(input())\n",
    "print(x*80)\n"
   ]
  },
  {
   "cell_type": "code",
   "execution_count": 11,
   "metadata": {},
   "outputs": [
    {
     "name": "stdout",
     "output_type": "stream",
     "text": [
      "16\n",
      "1280\n"
     ]
    }
   ],
   "source": [
    "#Case 2\n",
    "x=int(input())\n",
    "print(x*80)"
   ]
  },
  {
   "cell_type": "code",
   "execution_count": 12,
   "metadata": {},
   "outputs": [
    {
     "name": "stdout",
     "output_type": "stream",
     "text": [
      "64\n",
      "5120\n"
     ]
    }
   ],
   "source": [
    "#Case 3\n",
    "x=int(input())\n",
    "print(x*80)"
   ]
  },
  {
   "cell_type": "code",
   "execution_count": 13,
   "metadata": {},
   "outputs": [
    {
     "name": "stdout",
     "output_type": "stream",
     "text": [
      "560\n",
      "44800\n"
     ]
    }
   ],
   "source": [
    "#Case 4\n",
    "x=int(input())\n",
    "print(x*80)"
   ]
  },
  {
   "cell_type": "code",
   "execution_count": null,
   "metadata": {},
   "outputs": [],
   "source": []
  }
 ],
 "metadata": {
  "kernelspec": {
   "display_name": "Python 3",
   "language": "python",
   "name": "python3"
  },
  "language_info": {
   "codemirror_mode": {
    "name": "ipython",
    "version": 3
   },
   "file_extension": ".py",
   "mimetype": "text/x-python",
   "name": "python",
   "nbconvert_exporter": "python",
   "pygments_lexer": "ipython3",
   "version": "3.8.3"
  }
 },
 "nbformat": 4,
 "nbformat_minor": 4
}
