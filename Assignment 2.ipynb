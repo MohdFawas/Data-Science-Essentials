{
 "cells": [
  {
   "cell_type": "markdown",
   "metadata": {},
   "source": [
    "# Question 1"
   ]
  },
  {
   "cell_type": "code",
   "execution_count": 2,
   "metadata": {},
   "outputs": [
    {
     "name": "stdout",
     "output_type": "stream",
     "text": [
      "[]\n",
      "2\n",
      "23\n",
      "34\n",
      "25\n",
      "28\n",
      "144\n",
      "13\n",
      "39\n",
      "10\n",
      "55\n",
      "[2, 34, 28, 144, 10]\n"
     ]
    }
   ],
   "source": [
    "list1=[]\n",
    "print(list1)\n",
    "for i in range (10):\n",
    "    num=int(input())\n",
    "    if num%2==0:\n",
    "        list1.append(num)\n",
    "print(list1)"
   ]
  },
  {
   "cell_type": "markdown",
   "metadata": {},
   "source": [
    "# Question 2\n"
   ]
  },
  {
   "cell_type": "raw",
   "metadata": {},
   "source": [
    "List comprehension is the method of creating a list with the use of a square brackets by using for loop enclosed inside"
   ]
  },
  {
   "cell_type": "code",
   "execution_count": 24,
   "metadata": {},
   "outputs": [
    {
     "name": "stdout",
     "output_type": "stream",
     "text": [
      "[0, 1, 2, 3]\n",
      "['F', 'a', 'w', 'a', 's']\n"
     ]
    }
   ],
   "source": [
    "#Example\n",
    "list1=[Number for Number in range(4)]\n",
    "print(list1)\n",
    "list2=[letter for letter in 'Fawas']\n",
    "print(list2)\n"
   ]
  },
  {
   "cell_type": "markdown",
   "metadata": {},
   "source": [
    "# Question 3"
   ]
  },
  {
   "cell_type": "raw",
   "metadata": {},
   "source": []
  },
  {
   "cell_type": "code",
   "execution_count": 23,
   "metadata": {},
   "outputs": [
    {
     "name": "stdout",
     "output_type": "stream",
     "text": [
      "Enter a number:6\n",
      "{1: 1, 2: 4, 3: 9, 4: 16, 5: 25, 6: 36}\n"
     ]
    }
   ],
   "source": [
    "num=int(input('Enter a number:'))\n",
    "d=dict()\n",
    "for i in range(1,num+1):\n",
    "    d[i]=i*i\n",
    "print(d)"
   ]
  },
  {
   "cell_type": "markdown",
   "metadata": {},
   "source": [
    "# Question 4"
   ]
  },
  {
   "cell_type": "code",
   "execution_count": 22,
   "metadata": {},
   "outputs": [
    {
     "name": "stdout",
     "output_type": "stream",
     "text": [
      "UP:10\n",
      "DOWN:15\n",
      "RIGHT:12\n",
      "LEFT:9\n",
      "6\n"
     ]
    }
   ],
   "source": [
    "x=int(input('UP:'))\n",
    "y=int(input('DOWN:'))\n",
    "if x>y:\n",
    "    k=x-y\n",
    "elif x<y:\n",
    "    k=y-x\n",
    "a=int(input('RIGHT:'))\n",
    "b=int(input('LEFT:'))\n",
    "if a>b:\n",
    "    l=a-b\n",
    "elif a<b:\n",
    "    l=b-a\n",
    "d=((k**2)+(l**2))**(1/2)\n",
    "p=round(d)\n",
    "print(p)"
   ]
  },
  {
   "cell_type": "code",
   "execution_count": null,
   "metadata": {},
   "outputs": [],
   "source": []
  }
 ],
 "metadata": {
  "kernelspec": {
   "display_name": "Python 3",
   "language": "python",
   "name": "python3"
  },
  "language_info": {
   "codemirror_mode": {
    "name": "ipython",
    "version": 3
   },
   "file_extension": ".py",
   "mimetype": "text/x-python",
   "name": "python",
   "nbconvert_exporter": "python",
   "pygments_lexer": "ipython3",
   "version": "3.8.3"
  }
 },
 "nbformat": 4,
 "nbformat_minor": 4
}
