{
 "cells": [
  {
   "cell_type": "markdown",
   "metadata": {},
   "source": [
    "# Question 1"
   ]
  },
  {
   "cell_type": "code",
   "execution_count": 2,
   "metadata": {},
   "outputs": [
    {
     "name": "stdout",
     "output_type": "stream",
     "text": [
      "[ 2  5  8 11 14 17 20 23 26 29 32 35 38 41 44 47 50]\n"
     ]
    }
   ],
   "source": [
    "import numpy as np\n",
    "arr=np.arange(2,51,3)\n",
    "print(arr)\n"
   ]
  },
  {
   "cell_type": "markdown",
   "metadata": {},
   "source": [
    "# Question 2"
   ]
  },
  {
   "cell_type": "code",
   "execution_count": 4,
   "metadata": {},
   "outputs": [
    {
     "name": "stdout",
     "output_type": "stream",
     "text": [
      "Enter the values for list1:2\n",
      "Enter the values for list1:67\n",
      "Enter the values for list1:54\n",
      "Enter the values for list1:34\n",
      "Enter the values for list1:78\n",
      "Enter the values for list2:98\n",
      "Enter the values for list2:45\n",
      "Enter the values for list2:56\n",
      "Enter the values for list2:90\n",
      "Enter the values for list2:76\n",
      "Array value for concatenated arr: [ 2 67 54 34 78 98 45 56 90 76]\n",
      "Sorted array concatenated array: [ 2 34 45 54 56 67 76 78 90 98]\n"
     ]
    }
   ],
   "source": [
    "list1=[]\n",
    "list2=[]\n",
    "for i in range(5):\n",
    "    x=int(input('Enter the values for list1:'))\n",
    "    list1.append(x)\n",
    "for i in range(5):\n",
    "    x=int(input('Enter the values for list2:'))\n",
    "    list2.append(x)\n",
    "arr1=np.array(list1)\n",
    "arr2=np.array(list2)\n",
    "arr=np.concatenate((arr1,arr2))\n",
    "print('Array value for concatenated arr:',arr)\n",
    "sortedArray=np.sort(arr)\n",
    "print('Sorted array concatenated array:',sortedArray)\n"
   ]
  },
  {
   "cell_type": "markdown",
   "metadata": {},
   "source": [
    "# Question 3"
   ]
  },
  {
   "cell_type": "code",
   "execution_count": 6,
   "metadata": {},
   "outputs": [
    {
     "name": "stdout",
     "output_type": "stream",
     "text": [
      "Dimensions in array: 2\n",
      "Size of array: 9\n",
      "Shape of array: (3, 3)\n"
     ]
    }
   ],
   "source": [
    "arr=np.array([[3,7,9],[5,8,3],[8,6,5]])\n",
    "print('Dimensions in array:',arr.ndim)\n",
    "print('Size of array:',arr.size)\n",
    "\n",
    "\n"
   ]
  },
  {
   "cell_type": "markdown",
   "metadata": {},
   "source": [
    "# Question 4"
   ]
  },
  {
   "cell_type": "code",
   "execution_count": 7,
   "metadata": {},
   "outputs": [
    {
     "name": "stdout",
     "output_type": "stream",
     "text": [
      "Shape of array: (10,)\n",
      "Shape of 2d array in row major: (1, 10)\n",
      "Shape of 2d array in column major: (10, 1)\n"
     ]
    }
   ],
   "source": [
    "arr=np.arange(10)\n",
    "print('Shape of array:',arr.shape)\n",
    "row_arr=arr[np.newaxis,:]\n",
    "print('Shape of 2d array in row major:',row_arr.shape)\n",
    "col_arr=arr[:,np.newaxis]\n",
    "print('Shape of 2d array in column major:',col_arr.shape)\n"
   ]
  },
  {
   "cell_type": "code",
   "execution_count": 8,
   "metadata": {},
   "outputs": [
    {
     "name": "stdout",
     "output_type": "stream",
     "text": [
      "Shape of array: (10,)\n",
      "shape of 2d array in row major: (1, 10)\n",
      "Shape of 2d array in column major: (10, 1)\n"
     ]
    }
   ],
   "source": [
    "arr=np.arange(10)\n",
    "print('Shape of array:',arr.shape)\n",
    "row_arr=np.expand_dims(arr,axis=0)\n",
    "print('shape of 2d array in row major:',row_arr.shape)\n",
    "col_arr=np.expand_dims(arr,axis=1)\n",
    "print('Shape of 2d array in column major:',col_arr.shape)"
   ]
  },
  {
   "cell_type": "markdown",
   "metadata": {},
   "source": [
    "# Question 5 "
   ]
  },
  {
   "cell_type": "code",
   "execution_count": 9,
   "metadata": {},
   "outputs": [
    {
     "name": "stdout",
     "output_type": "stream",
     "text": [
      "Horizontal Append: [  1   4   9  16  25  36  49  64  81 100]\n",
      "Vertical Append: [[  1   4   9  16  25]\n",
      " [ 36  49  64  81 100]]\n"
     ]
    }
   ],
   "source": [
    "import numpy as np\n",
    "\n",
    "arr_1=np.square([1,2,3,4,5])\n",
    "arr_2=np.square([6,7,8,9,10])\n",
    "\n",
    "print('Horizontal Append:',np.hstack((arr_1,arr_2)))\n",
    "print('Vertical Append:',np.vstack((arr_1,arr_2)))\n"
   ]
  },
  {
   "cell_type": "markdown",
   "metadata": {},
   "source": [
    "# Question 6"
   ]
  },
  {
   "cell_type": "code",
   "execution_count": 10,
   "metadata": {},
   "outputs": [
    {
     "name": "stdout",
     "output_type": "stream",
     "text": [
      "[[ 1  2]\n",
      " [ 2  2]\n",
      " [ 3  1]\n",
      " [ 4  2]\n",
      " [ 5  2]\n",
      " [ 6  1]\n",
      " [ 7  1]\n",
      " [ 8  1]\n",
      " [ 9  1]\n",
      " [10  1]\n",
      " [16  1]\n",
      " [25  1]]\n"
     ]
    }
   ],
   "source": [
    "import numpy as np\n",
    "\n",
    "arr_1=np.array([1,4,9,16,25,1,4,2,3,2,5,6,5,7,8,10])\n",
    "unique,counts=np.unique(arr_1,return_counts=True)\n",
    "\n",
    "arr=np.asarray((unique,counts)).T\n",
    "print(arr)"
   ]
  },
  {
   "cell_type": "code",
   "execution_count": null,
   "metadata": {},
   "outputs": [],
   "source": []
  }
 ],
 "metadata": {
  "kernelspec": {
   "display_name": "Python 3",
   "language": "python",
   "name": "python3"
  },
  "language_info": {
   "codemirror_mode": {
    "name": "ipython",
    "version": 3
   },
   "file_extension": ".py",
   "mimetype": "text/x-python",
   "name": "python",
   "nbconvert_exporter": "python",
   "pygments_lexer": "ipython3",
   "version": "3.8.3"
  }
 },
 "nbformat": 4,
 "nbformat_minor": 4
}
